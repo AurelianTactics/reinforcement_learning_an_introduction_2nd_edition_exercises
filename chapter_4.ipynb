{
 "cells": [
  {
   "cell_type": "markdown",
   "metadata": {},
   "source": [
    "Exercise 4.8 (programming) Implement value iteration for the gambler’s problem\n",
    "and solve it for ph = 0.25 and ph = 0.55. In programming, you may find it convenient\n",
    "to introduce two dummy states corresponding to termination with capital of 0 and\n",
    "100, giving them values of 0 and 1 respectively. Show your results graphically, as in\n",
    "Figure 4.3. Are your results stable as θ → 0? "
   ]
  },
  {
   "cell_type": "code",
   "execution_count": 85,
   "metadata": {
    "collapsed": false
   },
   "outputs": [
    {
     "name": "stdout",
     "output_type": "stream",
     "text": [
      "0 0.822021484375\n",
      "1 0.190673828125\n",
      "2 0.042724609375\n",
      "3 0.0106811523438\n",
      "4 0.00267028808594\n",
      "5 0.000667572021484\n",
      "6 0.000115871429443\n",
      "7 2.17258930206e-05\n",
      "8 5.43147325516e-06\n",
      "9 1.35786831379e-06\n",
      "10 3.39467078447e-07\n",
      "11 3.580316843e-08\n",
      "12 6.71309408062e-09\n",
      "13 5.31016230987e-10\n",
      "14 1.32754057747e-10\n",
      "15 3.31885144367e-11\n",
      "16 6.2228460232e-12\n",
      "17 1.16678368356e-12\n",
      "18 2.9169592089e-13\n"
     ]
    }
   ],
   "source": [
    "import numpy as np\n",
    "\n",
    "p_h = 0.25 #0.55 #0.25\n",
    "\n",
    "#stores the estimated values of states\n",
    "v_dict = {}\n",
    "v_dict[0] = 0.\n",
    "v_dict[100] = 1.\n",
    "for i in range(1,100):\n",
    "    v_dict[i] = 0.\n",
    "    \n",
    "#stores the history of how v_dict updates over iterations, used for plotting\n",
    "v_history_list = []\n",
    "v_history_list.append([0.]*99)\n",
    "\n",
    "\n",
    "theta = 0.0000000000001\n",
    "for runs in range(100):\n",
    "    delta = 0.\n",
    "    temp_list = [] #added to v_history list every iteration, used for plotting\n",
    "    \n",
    "    \n",
    "    #no gamma, no reward except for at states 0 (loss) and 100 (win)\n",
    "    #thus value iteration is using p_h to estimate the V'(s) of a successful and unsuccessful flip\n",
    "    #the actions are betting from 1 up to the current size of the stake\n",
    "    \n",
    "    #going through each possible state of the policy (i)\n",
    "    for i in range(1,100):\n",
    "        v_old = v_dict[i]\n",
    "        v_best = v_dict[i] #holds the current best estimated value\n",
    "        \n",
    "        \n",
    "        #j is each possible action, can gamble between 1 and i\n",
    "        for j in range(1,i+1):\n",
    "            if i + j > 100:\n",
    "                bet_win = v_dict[100]\n",
    "            else:\n",
    "                bet_win = v_dict[i+j]\n",
    "                \n",
    "            if i - j < 0:\n",
    "                bet_loss = v_dict[0]\n",
    "            else:\n",
    "                bet_loss = v_dict[i-j]\n",
    "                \n",
    "            v_temp = p_h * bet_win + (1.-p_h) * bet_loss\n",
    "            if v_temp > v_best:\n",
    "                v_best = v_temp\n",
    "           \n",
    "        #not tracking the policy for now (only in the last step) so old value is updated to currently found best value\n",
    "        v_dict[i] = v_best\n",
    "        temp_list.append(v_best)\n",
    "        \n",
    "        if np.abs(v_old-v_best) > delta:\n",
    "            delta = np.abs(v_old-v_best)\n",
    "        \n",
    "    v_history_list.append(temp_list)\n",
    "    #continue looping until delta is less than theta\n",
    "    if delta < theta:\n",
    "        break\n",
    "        print(str(runs) + \" \" + str(delta))\n",
    "    else:\n",
    "        print(str(runs) + \" \" + str(delta))\n",
    "        \n",
    "#find optimal action for each state\n",
    "pi_optimal = [0]*99 #optimal actions\n",
    "\n",
    "for i in range(1,100):\n",
    "    v_old = v_dict[i]\n",
    "    v_best = v_dict[i] #holds the current best estimated value\n",
    "\n",
    "    #j is each possible action, can gamble between 1 and i\n",
    "    for j in range(1,i+1):\n",
    "        if i + j > 100:\n",
    "            bet_win = v_dict[100]\n",
    "        else:\n",
    "            bet_win = v_dict[i+j]\n",
    "\n",
    "        if i - j < 0:\n",
    "            bet_loss = v_dict[0]\n",
    "        else:\n",
    "            bet_loss = v_dict[i-j]\n",
    "\n",
    "        v_temp = p_h * bet_win + (1.-p_h) * bet_loss\n",
    "        if v_temp >= v_best:\n",
    "            pi_optimal[i-1] = j"
   ]
  },
  {
   "cell_type": "code",
   "execution_count": 79,
   "metadata": {
    "collapsed": false
   },
   "outputs": [],
   "source": [
    "#print(v_dict)\n",
    "#print(v_history_list)\n",
    "#print(pi_optimal)\n",
    "#print(pi_optimal[49])\n"
   ]
  },
  {
   "cell_type": "markdown",
   "metadata": {},
   "source": [
    "## p_h = .55 solution plots"
   ]
  },
  {
   "cell_type": "code",
   "execution_count": 80,
   "metadata": {
    "collapsed": false
   },
   "outputs": [
    {
     "data": {
      "image/png": "[encoded data removed]",
      "text/plain": [
       "<matplotlib.figure.Figure at 0x8ad7358>"
      ]
     },
     "metadata": {},
     "output_type": "display_data"
    }
   ],
   "source": [
    "import matplotlib.pyplot as plt\n",
    "\n",
    "plt.plot(pi_optimal,'.')\n",
    "plt.show()"
   ]
  },
  {
   "cell_type": "code",
   "execution_count": 81,
   "metadata": {
    "collapsed": false
   },
   "outputs": [
    {
     "data": {
      "image/png": "[encoded data removed]",
      "text/plain": [
       "<matplotlib.figure.Figure at 0x7999c18>"
      ]
     },
     "metadata": {},
     "output_type": "display_data"
    }
   ],
   "source": [
    "import matplotlib.pyplot as plt\n",
    "\n",
    "plt.plot(v_history_list[0])\n",
    "plt.plot(v_history_list[1])\n",
    "plt.plot(v_history_list[5])\n",
    "plt.plot(v_history_list[10])\n",
    "plt.plot(v_history_list[int(len(v_history_list)*.5)])\n",
    "plt.plot(v_history_list[int(len(v_history_list)*.6)])\n",
    "plt.plot(v_history_list[int(len(v_history_list)*.7)])\n",
    "plt.plot(v_history_list[int(len(v_history_list)*.8)])\n",
    "plt.plot(v_history_list[int(len(v_history_list)*.9)])\n",
    "plt.plot(v_history_list[len(v_history_list)-1])\n",
    "plt.show()"
   ]
  },
  {
   "cell_type": "markdown",
   "metadata": {},
   "source": [
    "## 0.25 = p_h Solution Plots"
   ]
  },
  {
   "cell_type": "code",
   "execution_count": 83,
   "metadata": {
    "collapsed": false
   },
   "outputs": [
    {
     "data": {
      "image/png": "[encoded data removed]",
      "text/plain": [
       "<matplotlib.figure.Figure at 0x7902c50>"
      ]
     },
     "metadata": {},
     "output_type": "display_data"
    }
   ],
   "source": [
    "import matplotlib.pyplot as plt\n",
    "\n",
    "plt.plot(pi_optimal,'.')\n",
    "plt.show()"
   ]
  },
  {
   "cell_type": "code",
   "execution_count": 84,
   "metadata": {
    "collapsed": false
   },
   "outputs": [
    {
     "data": {
      "image/png": "[encoded data removed]",
      "text/plain": [
       "<matplotlib.figure.Figure at 0x8ad3ba8>"
      ]
     },
     "metadata": {},
     "output_type": "display_data"
    }
   ],
   "source": [
    "plt.plot(v_history_list[0])\n",
    "plt.plot(v_history_list[1])\n",
    "plt.plot(v_history_list[5])\n",
    "plt.plot(v_history_list[10])\n",
    "plt.plot(v_history_list[int(len(v_history_list)*.5)])\n",
    "plt.plot(v_history_list[int(len(v_history_list)*.6)])\n",
    "plt.plot(v_history_list[int(len(v_history_list)*.7)])\n",
    "plt.plot(v_history_list[int(len(v_history_list)*.8)])\n",
    "plt.plot(v_history_list[int(len(v_history_list)*.9)])\n",
    "plt.plot(v_history_list[len(v_history_list)-1])\n",
    "plt.show()"
   ]
  },
  {
   "cell_type": "markdown",
   "metadata": {},
   "source": [
    "I believe it's stable as theta approaches 0. The print out above (and the one for 0.55) for the change in delta for subsequent runs shows that delta is continually decreasing."
   ]
  },
  {
   "cell_type": "markdown",
   "metadata": {},
   "source": [
    "### Exercise 4.4 (programming) \n",
    "Write a program for policy iteration and re-solve\n",
    "Jack’s car rental problem with the following changes. One of Jack’s employees at the\n",
    "first location rides a bus home each night and lives near the second location. She\n",
    "is happy to shuttle one car to the second location for free. Each additional car still\n",
    "costs 2, as do all cars moved in the other direction. In addition, Jack has limited\n",
    "parking space at each location. If more than 10 cars are kept overnight at a location\n",
    "(after any moving of cars), then an additional cost of 4 must be incurred to use\n",
    "a second parking lot (independent of how many cars are kept there). These sorts\n",
    "of nonlinearities and arbitrary dynamics often occur in real problems and cannot\n",
    "easily be handled by optimization methods other than dynamic programming. To\n",
    "check your program, first replicate the results given for the original problem. If your\n",
    "computer is too slow for the full problem, cut all the numbers of cars in half. "
   ]
  },
  {
   "cell_type": "code",
   "execution_count": 1,
   "metadata": {
    "collapsed": false
   },
   "outputs": [
    {
     "name": "stdout",
     "output_type": "stream",
     "text": [
      "0 56.1208312193\n",
      "1 11.492430662\n",
      "2 0.829526801415\n",
      "3 0.0\n"
     ]
    }
   ],
   "source": [
    "#my computer runs this too slow to do this\n",
    "#only recreated the original program and didn't try the added dynamics\n",
    "#this isn't checked as I can't manage to do the entire 20 car problem\n",
    "#to do the additional program, would modify move calculation below, which is relatively straight forward\n",
    "\n",
    "import numpy as np\n",
    "\n",
    "max_cars = 5 #10 #computer too slow\n",
    "\n",
    "\n",
    "def poisson_prob(n, l):\n",
    "    return np.math.pow(l,n) / np.math.factorial(n) * np.exp(-l)\n",
    "\n",
    "def move_calculation(lot_1,lot_2,cars):\n",
    "    \n",
    "    #can't move more cars than are in the lot\n",
    "    if cars < 0 and np.abs(cars) > lot_1:\n",
    "        cars = lot_1\n",
    "    elif cars > 0 and cars > lot_2:\n",
    "        cars = lot_2\n",
    "    \n",
    "    lot_1 = lot_1 - cars #negative cars is moving cars from 2 to 1\n",
    "    lot_2 = lot_2 + cars\n",
    "    \n",
    "    if lot_1 < 0:\n",
    "        lot_1 = 0\n",
    "    elif lot_1 > max_cars:\n",
    "        lot_1 = max_cars\n",
    "        \n",
    "    if lot_2 < 0:\n",
    "        lot_2 = 0\n",
    "    elif lot_2 > max_cars:\n",
    "        lot_2 = max_cars\n",
    "        \n",
    "    cost = cars * -2.\n",
    "    \n",
    "    return lot_1,lot_2,cost\n",
    "\n",
    "def get_next_state(lot_1,lot_2,rentals_1,rentals_2,returns_1,returns_2):\n",
    "    lot_1 = lot_1 - rentals_1 + returns_1\n",
    "    lot_2 = lot_2 - rentals_2 + returns_2\n",
    "    \n",
    "    if lot_1 < 0:\n",
    "        lot_1 = 0\n",
    "    elif lot_1 > max_cars:\n",
    "        lot_1 = max_cars\n",
    "        \n",
    "    if lot_2 < 0:\n",
    "        lot_2 = 0\n",
    "    elif lot_2 > max_cars:\n",
    "        lot_2 = max_cars\n",
    "        \n",
    "    return lot_1, lot_2\n",
    "\n",
    "#state space is 0-20 cars for each lot\n",
    "lot_state_value = {}\n",
    "\n",
    "for i in range(max_cars+1):\n",
    "    for j in range(max_cars+1):\n",
    "        lot_state_value[(i,j)] = 0\n",
    "\n",
    "    \n",
    "theta = 0.01\n",
    "gamma = 0.9 #discount rate\n",
    "\n",
    "for runs in range(100):\n",
    "    delta = 0.\n",
    "    \n",
    "    for i in range(max_cars+1):\n",
    "        for j in range(max_cars+1):\n",
    "            v_old = lot_state_value[(i,j)]\n",
    "            v_best = lot_state_value[(i,j)]\n",
    "            #print(\"test1\" +str(i) +str(j))\n",
    "            #cycle through the possible actions, the best one is used to update to get the new best state\n",
    "            for move_car in range(-5,6):\n",
    "                lot_1,lot_2,cost = move_calculation(i,j,move_car)\n",
    "                #print(\"test2\")\n",
    "                \n",
    "                #calculating value of state\n",
    "                #cost is fixed and happens 100% of the time,\n",
    "                v_new = cost\n",
    "            \n",
    "                #lot 1 possible rewards\n",
    "                for rentals_1 in range(0,lot_1+1):\n",
    "                    for rentals_2 in range(0,lot_2+1):\n",
    "                        for returns_1 in range(0,max_cars+1): #can technically get more returns I guess but whatever\n",
    "                            for returns_2 in range(0,max_cars+1): #can technically get more returns I guess but whatever\n",
    "                                lot_1_cars,lot_2_cars = get_next_state(lot_1,lot_2,rentals_1,rentals_2,returns_1,returns_2)\n",
    "                                next_state = lot_state_value[(lot_1_cars,lot_2_cars)]\n",
    "                                v_new += poisson_prob(rentals_1,3)*poisson_prob(returns_1,3) \\\n",
    "                                    *poisson_prob(rentals_2,4)*poisson_prob(returns_1,2) \\\n",
    "                                    *(rentals_1*10. + rentals_2*10. + np.math.pow(gamma,runs) * next_state )\n",
    "\n",
    "                if v_new > v_best:\n",
    "                    v_best = v_new    \n",
    "                 \n",
    "            lot_state_value[(i,j)] = v_best\n",
    "            if delta < np.abs(v_old-v_best):\n",
    "                delta = np.abs(v_old-v_best)\n",
    "            \n",
    "            \n",
    "    print(str(runs) + \" \" + str(delta))\n",
    "    if delta < theta:\n",
    "        break\n",
    "\n"
   ]
  },
  {
   "cell_type": "code",
   "execution_count": 2,
   "metadata": {
    "collapsed": false
   },
   "outputs": [
    {
     "name": "stdout",
     "output_type": "stream",
     "text": [
      "{(1, 2): 3.4313259982092585, (3, 2): 8.2488028085409706, (0, 0): 0.0099838663035239639, (5, 0): 10.813214463078301, (3, 0): 6.8084838140149078, (0, 4): 1.3444716025881496, (5, 4): 52.627796338587352, (1, 4): 11.819183944548483, (5, 5): 66.111827650134245, (1, 3): 6.5811894376110267, (0, 5): 1.9237349148267737, (2, 1): 4.6362265706279482, (5, 1): 10.813509585727434, (4, 2): 15.355659195830942, (2, 5): 30.234845253996212, (1, 0): 2.2174179705010375, (3, 5): 41.459074265056799, (0, 1): 0.089718805681961292, (5, 3): 37.951645793190409, (4, 1): 8.8091727930949482, (0, 2): 0.33203141636034927, (3, 3): 17.332822761616487, (1, 5): 18.22404346808921, (3, 4): 28.264894808378859, (3, 1): 6.8084912212862925, (5, 2): 24.771922204661156, (4, 4): 39.486377278059514, (1, 1): 2.2174196522166474, (2, 0): 4.6362200414113408, (4, 3): 26.297988411360418, (2, 2): 4.6547357176159565, (4, 5): 53.861160617206181, (2, 3): 10.239502389786331, (4, 0): 8.8091674246751719, (0, 3): 0.77295671337185679, (2, 4): 19.314046809199279}\n"
     ]
    }
   ],
   "source": [
    "print(lot_state_value)"
   ]
  },
  {
   "cell_type": "code",
   "execution_count": null,
   "metadata": {
    "collapsed": true
   },
   "outputs": [],
   "source": []
  }
 ],
 "metadata": {
  "anaconda-cloud": {},
  "kernelspec": {
   "display_name": "Python [conda env:tf35]",
   "language": "python",
   "name": "conda-env-tf35-py"
  },
  "language_info": {
   "codemirror_mode": {
    "name": "ipython",
    "version": 3
   },
   "file_extension": ".py",
   "mimetype": "text/x-python",
   "name": "python",
   "nbconvert_exporter": "python",
   "pygments_lexer": "ipython3",
   "version": "3.5.2"
  }
 },
 "nbformat": 4,
 "nbformat_minor": 1
}
